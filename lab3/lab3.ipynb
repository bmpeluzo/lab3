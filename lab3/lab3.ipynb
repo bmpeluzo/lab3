{
 "cells": [
  {
   "cell_type": "markdown",
   "id": "706ffb1d",
   "metadata": {},
   "source": [
    "# Lab 3 - Extending Logistic Regression "
   ]
  },
  {
   "cell_type": "markdown",
   "id": "d58d6726",
   "metadata": {},
   "source": [
    "- Ayesh Madushanka Mahamada Kalapuwage\n",
    "- Bárbara Maria Teixeira Costa Peluzo"
   ]
  },
  {
   "cell_type": "code",
   "execution_count": 1,
   "id": "74a46186",
   "metadata": {},
   "outputs": [],
   "source": [
    "import numpy as np\n",
    "from matplotlib import pyplot as plt\n",
    "%matplotlib inline\n"
   ]
  },
  {
   "cell_type": "code",
   "execution_count": null,
   "id": "3d1f1e53",
   "metadata": {},
   "outputs": [],
   "source": []
  }
 ],
 "metadata": {
  "kernelspec": {
   "display_name": "Python 3",
   "language": "python",
   "name": "python3"
  },
  "language_info": {
   "codemirror_mode": {
    "name": "ipython",
    "version": 3
   },
   "file_extension": ".py",
   "mimetype": "text/x-python",
   "name": "python",
   "nbconvert_exporter": "python",
   "pygments_lexer": "ipython3",
   "version": "3.8.8"
  }
 },
 "nbformat": 4,
 "nbformat_minor": 5
}
